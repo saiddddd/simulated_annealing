{
 "cells": [
  {
   "cell_type": "code",
   "execution_count": 11,
   "metadata": {},
   "outputs": [
    {
     "name": "stdout",
     "output_type": "stream",
     "text": [
      "best solution: -1.1103533760011557\n",
      "best fitness: -3.2463941927049618\n"
     ]
    }
   ],
   "source": [
    "import math\n",
    "import random \n",
    "\n",
    "def objective_function(x):\n",
    "    return x**2 + 5 * math.sin(x)\n",
    "\n",
    "\n",
    "def simulated_annealing(initial_solution, temperature, cooling_rate, iterations):\n",
    "    current_solution = initial_solution\n",
    "    current_energy = objective_function(current_solution)\n",
    "    \n",
    "    for _ in range(iterations):\n",
    "        neighbor_solution = current_solution + random.uniform(-0.5, 0.5)\n",
    "        neighbor_energy = objective_function(neighbor_solution)\n",
    "        \n",
    "        if neighbor_energy < current_energy or  random.uniform(0,1) < math.exp((current_energy - neighbor_energy)/temperature):\n",
    "            current_solution = neighbor_solution\n",
    "            current_energy = neighbor_energy\n",
    "            \n",
    "        temperature *= 1 - cooling_rate\n",
    "    return current_solution, current_energy\n",
    "\n",
    "\n",
    "initial_solution = 2.0\n",
    "initial_temperature = 1000.0\n",
    "cooling_rate = 0.03\n",
    "iterations = 1000\n",
    "\n",
    "result_solution, result_energy = simulated_annealing(initial_solution,initial_temperature, cooling_rate, iterations)\n",
    "print(\"best solution:\", result_solution)\n",
    "print(\"best fitness:\", result_energy)\n",
    "    "
   ]
  },
  {
   "cell_type": "code",
   "execution_count": 13,
   "metadata": {},
   "outputs": [
    {
     "name": "stdout",
     "output_type": "stream",
     "text": [
      "Best b value: 1.999300119624002\n",
      "Objective function value: 2.4591073130949588e-05\n"
     ]
    }
   ],
   "source": [
    "import math\n",
    "import random\n",
    "\n",
    "# Given data\n",
    "x_data = [0.4, 0.6, 0.8, 1.0, 1.2, 1.4, 1.6, 1.8, 2.0, 2.2, 2.4, 2.6]\n",
    "fx_data = [6.272, 5.552, 4.928, 4.400, 3.968, 3.632, 3.392, 3.248, 3.200, 3.248, 3.392, 3.632]\n",
    "\n",
    "def objective_function(b):\n",
    "    # Model function: 1.2(x - b)^2 + 3.2\n",
    "    predicted_fx = [1.2 * (x - b)**2 + 3.2 for x in x_data]\n",
    "    \n",
    "    # Objective function: sum of squared differences\n",
    "    error = sum((predicted - actual)**2 for predicted, actual in zip(predicted_fx, fx_data))\n",
    "    \n",
    "    return error\n",
    "\n",
    "def simulated_annealing_for_b(initial_b, temperature, cooling_rate, iterations):\n",
    "    current_b = initial_b\n",
    "    current_error = objective_function(current_b)\n",
    "\n",
    "    for _ in range(iterations):\n",
    "        neighbor_b = current_b + random.uniform(-0.5, 0.5)\n",
    "        neighbor_error = objective_function(neighbor_b)\n",
    "\n",
    "        if neighbor_error < current_error or random.uniform(0, 1) < math.exp((current_error - neighbor_error) / temperature):\n",
    "            current_b = neighbor_b\n",
    "            current_error = neighbor_error\n",
    "\n",
    "        temperature *= 1 - cooling_rate\n",
    "    \n",
    "    return current_b, current_error\n",
    "\n",
    "# Initial parameters for simulated annealing\n",
    "initial_b = 0.0\n",
    "initial_temperature = 1000.0\n",
    "cooling_rate = 0.03\n",
    "iterations = 1000\n",
    "\n",
    "# Run simulated annealing\n",
    "result_b, result_error = simulated_annealing_for_b(initial_b, initial_temperature, cooling_rate, iterations)\n",
    "\n",
    "# Print the result\n",
    "print(\"Best b value:\", result_b)\n",
    "print(\"Objective function value:\", result_error)\n"
   ]
  },
  {
   "cell_type": "code",
   "execution_count": 10,
   "metadata": {},
   "outputs": [
    {
     "data": {
      "text/plain": [
       "(12, 12)"
      ]
     },
     "execution_count": 10,
     "metadata": {},
     "output_type": "execute_result"
    }
   ],
   "source": [
    "len(x), len(fx)"
   ]
  },
  {
   "cell_type": "code",
   "execution_count": null,
   "metadata": {},
   "outputs": [],
   "source": []
  },
  {
   "cell_type": "code",
   "execution_count": null,
   "metadata": {},
   "outputs": [],
   "source": []
  },
  {
   "cell_type": "code",
   "execution_count": null,
   "metadata": {},
   "outputs": [],
   "source": []
  },
  {
   "cell_type": "code",
   "execution_count": null,
   "metadata": {},
   "outputs": [],
   "source": []
  },
  {
   "cell_type": "code",
   "execution_count": null,
   "metadata": {},
   "outputs": [],
   "source": []
  },
  {
   "cell_type": "code",
   "execution_count": null,
   "metadata": {},
   "outputs": [],
   "source": []
  },
  {
   "cell_type": "code",
   "execution_count": null,
   "metadata": {},
   "outputs": [],
   "source": []
  }
 ],
 "metadata": {
  "kernelspec": {
   "display_name": "Python 3",
   "language": "python",
   "name": "python3"
  },
  "language_info": {
   "codemirror_mode": {
    "name": "ipython",
    "version": 3
   },
   "file_extension": ".py",
   "mimetype": "text/x-python",
   "name": "python",
   "nbconvert_exporter": "python",
   "pygments_lexer": "ipython3",
   "version": "3.11.5"
  }
 },
 "nbformat": 4,
 "nbformat_minor": 2
}
